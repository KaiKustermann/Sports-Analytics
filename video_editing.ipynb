{
 "cells": [
  {
   "cell_type": "code",
   "execution_count": 1,
   "metadata": {},
   "outputs": [],
   "source": [
    "from scipy.io.wavfile import read \n",
    "import numpy as np\n",
    "import moviepy.editor as mp\n",
    "from moviepy.video.io.VideoFileClip import VideoFileClip\n",
    "import os\n",
    "\n",
    "\n",
    "#ffmpeg -i \"Cutting Crew - (I Just) Died In Your Arms (Official Music Video).mp3\" -sample_fmt s16 output.wav\n",
    "\n",
    "def get_time_of_max_volume(wav_file: str):\n",
    "    samplerate, data = read(wav_file)\n",
    "    #only needed for 2 channel audio data\n",
    "    data_flatten = data.flatten()\n",
    "    index_max = np.argmax(data_flatten)\n",
    "    time_max = index_max/samplerate\n",
    "    return time_max\n",
    "\n",
    "def get_duration(wav_file: str):\n",
    "    samplerate, data = read(wav_file)\n",
    "    return len(data)/samplerate\n",
    "\n",
    "def get_data(wav_file: str):\n",
    "    samplerate, data = read(wav_file)\n",
    "    return data\n",
    "\n",
    "def get_samplerate(wav_file: str):\n",
    "    samplerate, data = read(wav_file)\n",
    "    return samplerate\n",
    "\n",
    "def get_time_vector(wav_file: str, duration, samplerate):\n",
    "    time_vector = np.arange(0,duration,1/samplerate) #time vector\n",
    "    return time_vector\n",
    "\n",
    "def extract_subclip_from_video(mp4_file_name: str):\n",
    "    clip = mp.VideoFileClip(mp4_file_name + \".mp4\")\n",
    "    clip.audio.write_audiofile(mp4_file_name + \".wav\")\n",
    "\n",
    "    time_max_volume = get_time_of_max_volume(mp4_file_name + \".wav\")\n",
    "    duration = get_duration(mp4_file_name + \".wav\")\n",
    "\n",
    "    if time_max_volume < 15:\n",
    "        with VideoFileClip(mp4_file_name + \".mp4\") as video:\n",
    "            new = video.subclip(time_max_volume, time_max_volume + 60)\n",
    "            new.write_videofile(mp4_file_name + \"_cut.mp4\", audio_codec='aac')\n",
    "    else:\n",
    "        print(\"The time of the maximum volume in the video is higher than 15 seconds, so the video was not cut\")\n",
    "        \n",
    "    if os.path.exists(mp4_file_name + \".wav\"):\n",
    "        os.remove(mp4_file_name + \".wav\")\n",
    "    else:\n",
    "        print(\"The file does not exist\")\n",
    "\n"
   ]
  },
  {
   "cell_type": "code",
   "execution_count": 2,
   "metadata": {},
   "outputs": [
    {
     "name": "stderr",
     "output_type": "stream",
     "text": [
      "chunk:   2%|▏         | 24/1520 [00:00<00:06, 239.05it/s, now=None]"
     ]
    },
    {
     "name": "stdout",
     "output_type": "stream",
     "text": [
      "MoviePy - Writing audio in assets/Gehen-6,5-seite.wav\n"
     ]
    },
    {
     "name": "stderr",
     "output_type": "stream",
     "text": [
      "                                                                      \r"
     ]
    },
    {
     "name": "stdout",
     "output_type": "stream",
     "text": [
      "MoviePy - Done.\n",
      "3.5995691609977323\n"
     ]
    },
    {
     "name": "stderr",
     "output_type": "stream",
     "text": [
      "chunk:   2%|▏         | 22/1324 [00:00<00:06, 211.36it/s, now=None]"
     ]
    },
    {
     "name": "stdout",
     "output_type": "stream",
     "text": [
      "Moviepy - Building video assets/Gehen-6,5-seite_cut.mp4.\n",
      "MoviePy - Writing audio in Gehen-6,5-seite_cutTEMP_MPY_wvf_snd.mp4\n"
     ]
    },
    {
     "name": "stderr",
     "output_type": "stream",
     "text": [
      "t:   0%|          | 3/1799 [00:00<01:01, 29.10it/s, now=None]         "
     ]
    },
    {
     "name": "stdout",
     "output_type": "stream",
     "text": [
      "MoviePy - Done.\n",
      "Moviepy - Writing video assets/Gehen-6,5-seite_cut.mp4\n",
      "\n"
     ]
    },
    {
     "name": "stderr",
     "output_type": "stream",
     "text": [
      "                                                                \r"
     ]
    },
    {
     "name": "stdout",
     "output_type": "stream",
     "text": [
      "Moviepy - Done !\n",
      "Moviepy - video ready assets/Gehen-6,5-seite_cut.mp4\n"
     ]
    }
   ],
   "source": [
    "extract_subclip_from_video(\"assets/Gehen-6,5-seite\")"
   ]
  },
  {
   "cell_type": "code",
   "execution_count": 4,
   "metadata": {},
   "outputs": [
    {
     "name": "stderr",
     "output_type": "stream",
     "text": [
      "chunk:   5%|▌         | 72/1434 [00:00<00:01, 719.38it/s, now=None]"
     ]
    },
    {
     "name": "stdout",
     "output_type": "stream",
     "text": [
      "MoviePy - Writing audio in assets/Gehen-6,5.wav\n"
     ]
    },
    {
     "name": "stderr",
     "output_type": "stream",
     "text": [
      "                                                                      \r"
     ]
    },
    {
     "name": "stdout",
     "output_type": "stream",
     "text": [
      "MoviePy - Done.\n"
     ]
    },
    {
     "data": {
      "image/png": "[encoded data removed]",
      "text/plain": [
       "<Figure size 432x288 with 1 Axes>"
      ]
     },
     "metadata": {
      "needs_background": "light"
     },
     "output_type": "display_data"
    }
   ],
   "source": [
    "import matplotlib.pyplot as plt\n",
    "\n",
    "def draw_sound_graph(mp4_file_name):\n",
    "    clip = mp.VideoFileClip(mp4_file_name + \".mp4\")\n",
    "    clip.audio.write_audiofile(mp4_file_name + \".wav\")\n",
    "    data = get_data(mp4_file_name + \".wav\")\n",
    "    samplerate = get_samplerate(mp4_file_name + \".wav\")\n",
    "    duration = get_duration(mp4_file_name + \".wav\")\n",
    "    time_vector = get_time_vector(mp4_file_name + \".wav\", duration, samplerate)\n",
    "\n",
    "    plt.plot(time_vector,data)\n",
    "    plt.xlabel('Time [s]')\n",
    "    plt.ylabel('Amplitude')\n",
    "    plt.title(mp4_file_name)\n",
    "    plt.show()\n",
    "\n",
    "    if os.path.exists(mp4_file_name + \".wav\"):\n",
    "        os.remove(mp4_file_name + \".wav\")\n",
    "    else:\n",
    "        print(\"The file does not exist\")\n",
    "\n",
    "draw_sound_graph(\"assets/Gehen-6,5\")"
   ]
  }
 ],
 "metadata": {
  "interpreter": {
   "hash": "5bf495ed8d2d672bb8ef139f6536efca43739e264d035503ca179ac8f5ec3ca8"
  },
  "kernelspec": {
   "display_name": "Python 3.8.6 64-bit",
   "language": "python",
   "name": "python3"
  },
  "language_info": {
   "codemirror_mode": {
    "name": "ipython",
    "version": 3
   },
   "file_extension": ".py",
   "mimetype": "text/x-python",
   "name": "python",
   "nbconvert_exporter": "python",
   "pygments_lexer": "ipython3",
   "version": "3.8.6"
  },
  "orig_nbformat": 4
 },
 "nbformat": 4,
 "nbformat_minor": 2
}
