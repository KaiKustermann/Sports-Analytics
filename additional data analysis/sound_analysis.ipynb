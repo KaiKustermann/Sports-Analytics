{
 "cells": [
  {
   "cell_type": "code",
   "execution_count": 3,
   "metadata": {},
   "outputs": [],
   "source": [
    "from scipy.io.wavfile import read \n",
    "import numpy as np\n",
    "import moviepy.editor as mp\n",
    "from moviepy.video.io.VideoFileClip import VideoFileClip\n",
    "import os\n",
    "\n",
    "def get_time_of_max_volume(wav_file: str):\n",
    "    samplerate, data = read(wav_file)\n",
    "    #only needed for 2 channel audio data\n",
    "    data_flatten = data.flatten()\n",
    "    index_max = np.argmax(data_flatten)\n",
    "    time_max = index_max/samplerate\n",
    "    return time_max\n",
    "\n",
    "def get_duration(wav_file: str):\n",
    "    samplerate, data = read(wav_file)\n",
    "    return len(data)/samplerate\n",
    "\n",
    "def get_data(wav_file: str):\n",
    "    samplerate, data = read(wav_file)\n",
    "    return data\n",
    "\n",
    "def get_samplerate(wav_file: str):\n",
    "    samplerate, data = read(wav_file)\n",
    "    return samplerate\n",
    "\n",
    "def get_time_vector(wav_file: str, duration, samplerate):\n",
    "    time_vector = np.arange(0,duration,1/samplerate) #time vector\n",
    "    return time_vector"
   ]
  },
  {
   "cell_type": "code",
   "execution_count": 4,
   "metadata": {},
   "outputs": [
    {
     "name": "stderr",
     "output_type": "stream",
     "text": [
      "chunk:  18%|█▊        | 255/1434 [00:00<00:00, 1425.48it/s, now=None]"
     ]
    },
    {
     "name": "stdout",
     "output_type": "stream",
     "text": [
      "MoviePy - Writing audio in ../example_assets/Gehen-6,5.wav\n"
     ]
    },
    {
     "name": "stderr",
     "output_type": "stream",
     "text": [
      "                                                                      \r"
     ]
    },
    {
     "name": "stdout",
     "output_type": "stream",
     "text": [
      "MoviePy - Done.\n"
     ]
    },
    {
     "data": {
      "image/png": "[encoded data removed]",
      "text/plain": [
       "<Figure size 432x288 with 1 Axes>"
      ]
     },
     "metadata": {
      "needs_background": "light"
     },
     "output_type": "display_data"
    }
   ],
   "source": [
    "import matplotlib.pyplot as plt\n",
    "\n",
    "def draw_sound_graph(mp4_file_name):\n",
    "    clip = mp.VideoFileClip(mp4_file_name + \".mp4\")\n",
    "    clip.audio.write_audiofile(mp4_file_name + \".wav\")\n",
    "    data = get_data(mp4_file_name + \".wav\")\n",
    "    samplerate = get_samplerate(mp4_file_name + \".wav\")\n",
    "    duration = get_duration(mp4_file_name + \".wav\")\n",
    "    time_vector = get_time_vector(mp4_file_name + \".wav\", duration, samplerate)\n",
    "\n",
    "    plt.plot(time_vector,data)\n",
    "    plt.xlabel('Time [s]')\n",
    "    plt.ylabel('Amplitude')\n",
    "    plt.title(mp4_file_name)\n",
    "    plt.show()\n",
    "\n",
    "    if os.path.exists(mp4_file_name + \".wav\"):\n",
    "        os.remove(mp4_file_name + \".wav\")\n",
    "    else:\n",
    "        print(\"The file does not exist\")\n",
    "\n",
    "draw_sound_graph(\"../example_assets/Gehen-6,5\")"
   ]
  }
 ],
 "metadata": {
  "interpreter": {
   "hash": "5bf495ed8d2d672bb8ef139f6536efca43739e264d035503ca179ac8f5ec3ca8"
  },
  "kernelspec": {
   "display_name": "Python 3.8.6 64-bit",
   "language": "python",
   "name": "python3"
  },
  "language_info": {
   "codemirror_mode": {
    "name": "ipython",
    "version": 3
   },
   "file_extension": ".py",
   "mimetype": "text/x-python",
   "name": "python",
   "nbconvert_exporter": "python",
   "pygments_lexer": "ipython3",
   "version": "3.8.6"
  },
  "orig_nbformat": 4
 },
 "nbformat": 4,
 "nbformat_minor": 2
}
